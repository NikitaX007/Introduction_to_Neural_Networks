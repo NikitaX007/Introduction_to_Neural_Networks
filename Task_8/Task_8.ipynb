{
 "cells": [
  {
   "cell_type": "markdown",
   "metadata": {},
   "source": [
    "Буду использовать сеть U-Net, которая является стандартной архитектурой для задач сегментации изображений. Производственный датасет - СЕВЕРСТАЛЬ из 4 семинара"
   ]
  },
  {
   "cell_type": "markdown",
   "metadata": {},
   "source": [
    "Часть 1: Импорт и предварительная обработка данных"
   ]
  },
  {
   "cell_type": "code",
   "execution_count": 1,
   "metadata": {},
   "outputs": [
    {
     "name": "stderr",
     "output_type": "stream",
     "text": [
      "C:\\Users\\KIT\\AppData\\Local\\Temp\\ipykernel_4744\\4280630880.py:3: DeprecationWarning: \n",
      "Pyarrow will become a required dependency of pandas in the next major release of pandas (pandas 3.0),\n",
      "(to allow more performant data types, such as the Arrow string type, and better interoperability with other libraries)\n",
      "but was not found to be installed on your system.\n",
      "If this would cause problems for you,\n",
      "please provide us feedback at https://github.com/pandas-dev/pandas/issues/54466\n",
      "        \n",
      "  import pandas as pd\n"
     ]
    },
    {
     "name": "stdout",
     "output_type": "stream",
     "text": [
      "WARNING:tensorflow:From c:\\Users\\KIT\\AppData\\Local\\Programs\\Python\\Python311\\Lib\\site-packages\\keras\\src\\losses.py:2976: The name tf.losses.sparse_softmax_cross_entropy is deprecated. Please use tf.compat.v1.losses.sparse_softmax_cross_entropy instead.\n",
      "\n",
      "WARNING:tensorflow:From C:\\Users\\KIT\\AppData\\Local\\Temp\\ipykernel_4744\\4280630880.py:7: The name tf.logging.set_verbosity is deprecated. Please use tf.compat.v1.logging.set_verbosity instead.\n",
      "\n"
     ]
    }
   ],
   "source": [
    "# Импорт необходимых библиотек\n",
    "import numpy as np\n",
    "import pandas as pd\n",
    "import cv2\n",
    "import os\n",
    "import tensorflow as tf\n",
    "tf.compat.v1.logging.set_verbosity(tf.compat.v1.logging.ERROR)  # Игнорировать предупреждения\n",
    "from tqdm import tqdm\n",
    "from sklearn.model_selection import train_test_split\n",
    "from keras.utils import to_categorical\n",
    "from keras.preprocessing.image import ImageDataGenerator\n",
    "from keras.callbacks import EarlyStopping, ModelCheckpoint\n",
    "from keras.models import Model\n",
    "from keras.layers import Input, Conv2D, MaxPooling2D, UpSampling2D, concatenate\n",
    "from multiprocessing.pool import ThreadPool\n",
    "from keras.layers import BatchNormalization, Dropout\n",
    "from keras.layers import Activation\n",
    "from keras.metrics import MeanIoU\n",
    "from keras.callbacks import ReduceLROnPlateau\n",
    "import matplotlib.pyplot as plt"
   ]
  },
  {
   "cell_type": "code",
   "execution_count": 2,
   "metadata": {},
   "outputs": [],
   "source": [
    "# Загрузка данных\n",
    "data_path = 'C:\\\\Users\\\\KIT\\\\Desktop\\\\GeekBrains\\\\severstal-steel-defect-detection\\\\train.csv'\n",
    "images_dir = 'C:\\\\Users\\\\KIT\\\\Desktop\\\\GeekBrains\\\\severstal-steel-defect-detection\\\\train_images\\\\'\n",
    "df = pd.read_csv(data_path)\n",
    "input_shape = (256, 256)  "
   ]
  },
  {
   "cell_type": "code",
   "execution_count": 3,
   "metadata": {},
   "outputs": [],
   "source": [
    "num_classes = 4  # Фактическое количество классов дефектов"
   ]
  },
  {
   "cell_type": "code",
   "execution_count": 4,
   "metadata": {},
   "outputs": [],
   "source": [
    "# Функция для преобразования RLE в маску\n",
    "def rle_to_mask(rle_string, height, width):\n",
    "    rows, cols = height, width\n",
    "    img = np.zeros(rows * cols, dtype=np.uint8)\n",
    "    if rle_string is not None:\n",
    "        rle_numbers = [int(numstring) for numstring in rle_string.split(' ')]\n",
    "        rle_pairs = np.array(rle_numbers).reshape(-1, 2)\n",
    "        for index, length in rle_pairs:\n",
    "            index -= 1\n",
    "            img[index:index + length] = 1\n",
    "    img = img.reshape(cols, rows)\n",
    "    img = img.T\n",
    "    return img"
   ]
  },
  {
   "cell_type": "code",
   "execution_count": 5,
   "metadata": {},
   "outputs": [],
   "source": [
    "# Функция для построения масок\n",
    "def build_masks(df, input_shape):\n",
    "    height, width = input_shape\n",
    "\n",
    "    # Инициализация массива масок с нулями для каждого класса дефекта\n",
    "    \n",
    "    masks = np.zeros((height, width, num_classes), dtype=np.uint8)\n",
    "    for idx, row in df.iterrows():\n",
    "        class_id = row['ClassId']\n",
    "        rle = row['EncodedPixels']\n",
    "        mask = rle_to_mask(rle, height, width)\n",
    "        masks[:, :, class_id - 1] = mask  # class_id - 1 для получения правильного индекса\n",
    "    return masks"
   ]
  },
  {
   "cell_type": "code",
   "execution_count": 6,
   "metadata": {},
   "outputs": [],
   "source": [
    "# Функция для загрузки и предобработки изображений и масок\n",
    "\n",
    "def preprocess_data_concurrent(df, images_dir, input_shape):\n",
    "    def load_and_preprocess(img_id):\n",
    "        img_path = os.path.join(images_dir, img_id)\n",
    "        img = cv2.imread(img_path, cv2.IMREAD_COLOR)\n",
    "        img = cv2.resize(img, input_shape)\n",
    "        mask = build_masks(df[df['ImageId'] == img_id], input_shape)\n",
    "        return img, mask\n",
    "\n",
    "    unique_img_ids = df['ImageId'].unique()\n",
    "    with ThreadPool() as pool:\n",
    "        results = pool.map(load_and_preprocess, unique_img_ids)\n",
    "\n",
    "    images, masks = zip(*results)\n",
    "    return np.array(images, dtype=np.float32) / 255.0, np.array(masks, dtype=np.float32)"
   ]
  },
  {
   "cell_type": "markdown",
   "metadata": {},
   "source": [
    "Часть 2: Создание и обучение модели"
   ]
  },
  {
   "cell_type": "code",
   "execution_count": 7,
   "metadata": {},
   "outputs": [],
   "source": [
    "# Функция для создания сверточного блока\n",
    "\n",
    "def conv_block(input_tensor, num_filters):\n",
    "    x = Conv2D(num_filters, (3, 3), padding='same')(input_tensor)\n",
    "    x = BatchNormalization()(x)\n",
    "    x = Activation('relu')(x)\n",
    "    x = Dropout(0.5)(x)  # Добавлен Dropout\n",
    "    x = Conv2D(num_filters, (3, 3), padding='same')(x)\n",
    "    x = BatchNormalization()(x)\n",
    "    x = Activation('relu')(x)\n",
    "    return x"
   ]
  },
  {
   "cell_type": "code",
   "execution_count": 8,
   "metadata": {},
   "outputs": [],
   "source": [
    "# Функция для создания модели U-Net\n",
    "def unet_model(input_size=(256, 256, 3), num_classes=4):\n",
    "    inputs = Input(input_size)\n",
    "\n",
    "    # Сверточные блоки\n",
    "    conv1 = conv_block(inputs, 64)\n",
    "    pool1 = MaxPooling2D(pool_size=(2, 2))(conv1)\n",
    "    conv2 = conv_block(pool1, 64)\n",
    "    pool2 = MaxPooling2D(pool_size=(2, 2))(conv2)\n",
    "    conv3 = conv_block(pool2, 64)\n",
    "    pool3 = MaxPooling2D(pool_size=(2, 2))(conv3)\n",
    "    conv4 = conv_block(pool3, 64)\n",
    "    pool4 = MaxPooling2D(pool_size=(2, 2))(conv4)\n",
    "\n",
    "    # Средний слой\n",
    "    conv5 = conv_block(pool4, 64)\n",
    "\n",
    "    # Декодирующие блоки\n",
    "    up6 = UpSampling2D(size=(2, 2))(conv5)\n",
    "    up6 = concatenate([up6, conv4], axis=3)\n",
    "    conv6 = conv_block(up6, 64)\n",
    "\n",
    "    up7 = UpSampling2D(size=(2, 2))(conv6)\n",
    "    up7 = concatenate([up7, conv3], axis=3)\n",
    "    conv7 = conv_block(up7, 64)\n",
    "\n",
    "    up8 = UpSampling2D(size=(2, 2))(conv7)\n",
    "    up8 = concatenate([up8, conv2], axis=3)\n",
    "    conv8 = conv_block(up8, 64)\n",
    "\n",
    "    up9 = UpSampling2D(size=(2, 2))(conv8)\n",
    "    up9 = concatenate([up9, conv1], axis=3)\n",
    "    conv9 = conv_block(up9, 64)\n",
    "\n",
    "    # Выходной слой\n",
    "    conv_final = Conv2D(num_classes, (1, 1), activation='softmax')(conv9)\n",
    "\n",
    "    model = Model(inputs=[inputs], outputs=[conv_final])\n",
    "    model.compile(optimizer='adam', loss='categorical_crossentropy', metrics=['accuracy'])\n",
    "\n",
    "    return model"
   ]
  },
  {
   "cell_type": "code",
   "execution_count": 9,
   "metadata": {},
   "outputs": [],
   "source": [
    "# Вызов функции для загрузки и предобработки изображений и масок\n",
    "images, masks = preprocess_data_concurrent(df, images_dir, input_shape)"
   ]
  },
  {
   "cell_type": "code",
   "execution_count": 10,
   "metadata": {},
   "outputs": [],
   "source": [
    "# Разделение на обучающую и валидационную выборки\n",
    "X_train, X_val, y_train, y_val = train_test_split(images, masks, test_size=0.1, random_state=42)"
   ]
  },
  {
   "cell_type": "code",
   "execution_count": 11,
   "metadata": {},
   "outputs": [
    {
     "name": "stdout",
     "output_type": "stream",
     "text": [
      "Model: \"model\"\n",
      "__________________________________________________________________________________________________\n",
      " Layer (type)                Output Shape                 Param #   Connected to                  \n",
      "==================================================================================================\n",
      " input_1 (InputLayer)        [(None, 256, 256, 3)]        0         []                            \n",
      "                                                                                                  \n",
      " conv2d (Conv2D)             (None, 256, 256, 64)         1792      ['input_1[0][0]']             \n",
      "                                                                                                  \n",
      " batch_normalization (Batch  (None, 256, 256, 64)         256       ['conv2d[0][0]']              \n",
      " Normalization)                                                                                   \n",
      "                                                                                                  \n",
      " activation (Activation)     (None, 256, 256, 64)         0         ['batch_normalization[0][0]'] \n",
      "                                                                                                  \n",
      " dropout (Dropout)           (None, 256, 256, 64)         0         ['activation[0][0]']          \n",
      "                                                                                                  \n",
      " conv2d_1 (Conv2D)           (None, 256, 256, 64)         36928     ['dropout[0][0]']             \n",
      "                                                                                                  \n",
      " batch_normalization_1 (Bat  (None, 256, 256, 64)         256       ['conv2d_1[0][0]']            \n",
      " chNormalization)                                                                                 \n",
      "                                                                                                  \n",
      " activation_1 (Activation)   (None, 256, 256, 64)         0         ['batch_normalization_1[0][0]'\n",
      "                                                                    ]                             \n",
      "                                                                                                  \n",
      " max_pooling2d (MaxPooling2  (None, 128, 128, 64)         0         ['activation_1[0][0]']        \n",
      " D)                                                                                               \n",
      "                                                                                                  \n",
      " conv2d_2 (Conv2D)           (None, 128, 128, 64)         36928     ['max_pooling2d[0][0]']       \n",
      "                                                                                                  \n",
      " batch_normalization_2 (Bat  (None, 128, 128, 64)         256       ['conv2d_2[0][0]']            \n",
      " chNormalization)                                                                                 \n",
      "                                                                                                  \n",
      " activation_2 (Activation)   (None, 128, 128, 64)         0         ['batch_normalization_2[0][0]'\n",
      "                                                                    ]                             \n",
      "                                                                                                  \n",
      " dropout_1 (Dropout)         (None, 128, 128, 64)         0         ['activation_2[0][0]']        \n",
      "                                                                                                  \n",
      " conv2d_3 (Conv2D)           (None, 128, 128, 64)         36928     ['dropout_1[0][0]']           \n",
      "                                                                                                  \n",
      " batch_normalization_3 (Bat  (None, 128, 128, 64)         256       ['conv2d_3[0][0]']            \n",
      " chNormalization)                                                                                 \n",
      "                                                                                                  \n",
      " activation_3 (Activation)   (None, 128, 128, 64)         0         ['batch_normalization_3[0][0]'\n",
      "                                                                    ]                             \n",
      "                                                                                                  \n",
      " max_pooling2d_1 (MaxPoolin  (None, 64, 64, 64)           0         ['activation_3[0][0]']        \n",
      " g2D)                                                                                             \n",
      "                                                                                                  \n",
      " conv2d_4 (Conv2D)           (None, 64, 64, 64)           36928     ['max_pooling2d_1[0][0]']     \n",
      "                                                                                                  \n",
      " batch_normalization_4 (Bat  (None, 64, 64, 64)           256       ['conv2d_4[0][0]']            \n",
      " chNormalization)                                                                                 \n",
      "                                                                                                  \n",
      " activation_4 (Activation)   (None, 64, 64, 64)           0         ['batch_normalization_4[0][0]'\n",
      "                                                                    ]                             \n",
      "                                                                                                  \n",
      " dropout_2 (Dropout)         (None, 64, 64, 64)           0         ['activation_4[0][0]']        \n",
      "                                                                                                  \n",
      " conv2d_5 (Conv2D)           (None, 64, 64, 64)           36928     ['dropout_2[0][0]']           \n",
      "                                                                                                  \n",
      " batch_normalization_5 (Bat  (None, 64, 64, 64)           256       ['conv2d_5[0][0]']            \n",
      " chNormalization)                                                                                 \n",
      "                                                                                                  \n",
      " activation_5 (Activation)   (None, 64, 64, 64)           0         ['batch_normalization_5[0][0]'\n",
      "                                                                    ]                             \n",
      "                                                                                                  \n",
      " max_pooling2d_2 (MaxPoolin  (None, 32, 32, 64)           0         ['activation_5[0][0]']        \n",
      " g2D)                                                                                             \n",
      "                                                                                                  \n",
      " conv2d_6 (Conv2D)           (None, 32, 32, 64)           36928     ['max_pooling2d_2[0][0]']     \n",
      "                                                                                                  \n",
      " batch_normalization_6 (Bat  (None, 32, 32, 64)           256       ['conv2d_6[0][0]']            \n",
      " chNormalization)                                                                                 \n",
      "                                                                                                  \n",
      " activation_6 (Activation)   (None, 32, 32, 64)           0         ['batch_normalization_6[0][0]'\n",
      "                                                                    ]                             \n",
      "                                                                                                  \n",
      " dropout_3 (Dropout)         (None, 32, 32, 64)           0         ['activation_6[0][0]']        \n",
      "                                                                                                  \n",
      " conv2d_7 (Conv2D)           (None, 32, 32, 64)           36928     ['dropout_3[0][0]']           \n",
      "                                                                                                  \n",
      " batch_normalization_7 (Bat  (None, 32, 32, 64)           256       ['conv2d_7[0][0]']            \n",
      " chNormalization)                                                                                 \n",
      "                                                                                                  \n",
      " activation_7 (Activation)   (None, 32, 32, 64)           0         ['batch_normalization_7[0][0]'\n",
      "                                                                    ]                             \n",
      "                                                                                                  \n",
      " max_pooling2d_3 (MaxPoolin  (None, 16, 16, 64)           0         ['activation_7[0][0]']        \n",
      " g2D)                                                                                             \n",
      "                                                                                                  \n",
      " conv2d_8 (Conv2D)           (None, 16, 16, 64)           36928     ['max_pooling2d_3[0][0]']     \n",
      "                                                                                                  \n",
      " batch_normalization_8 (Bat  (None, 16, 16, 64)           256       ['conv2d_8[0][0]']            \n",
      " chNormalization)                                                                                 \n",
      "                                                                                                  \n",
      " activation_8 (Activation)   (None, 16, 16, 64)           0         ['batch_normalization_8[0][0]'\n",
      "                                                                    ]                             \n",
      "                                                                                                  \n",
      " dropout_4 (Dropout)         (None, 16, 16, 64)           0         ['activation_8[0][0]']        \n",
      "                                                                                                  \n",
      " conv2d_9 (Conv2D)           (None, 16, 16, 64)           36928     ['dropout_4[0][0]']           \n",
      "                                                                                                  \n",
      " batch_normalization_9 (Bat  (None, 16, 16, 64)           256       ['conv2d_9[0][0]']            \n",
      " chNormalization)                                                                                 \n",
      "                                                                                                  \n",
      " activation_9 (Activation)   (None, 16, 16, 64)           0         ['batch_normalization_9[0][0]'\n",
      "                                                                    ]                             \n",
      "                                                                                                  \n",
      " up_sampling2d (UpSampling2  (None, 32, 32, 64)           0         ['activation_9[0][0]']        \n",
      " D)                                                                                               \n",
      "                                                                                                  \n",
      " concatenate (Concatenate)   (None, 32, 32, 128)          0         ['up_sampling2d[0][0]',       \n",
      "                                                                     'activation_7[0][0]']        \n",
      "                                                                                                  \n",
      " conv2d_10 (Conv2D)          (None, 32, 32, 64)           73792     ['concatenate[0][0]']         \n",
      "                                                                                                  \n",
      " batch_normalization_10 (Ba  (None, 32, 32, 64)           256       ['conv2d_10[0][0]']           \n",
      " tchNormalization)                                                                                \n",
      "                                                                                                  \n",
      " activation_10 (Activation)  (None, 32, 32, 64)           0         ['batch_normalization_10[0][0]\n",
      "                                                                    ']                            \n",
      "                                                                                                  \n",
      " dropout_5 (Dropout)         (None, 32, 32, 64)           0         ['activation_10[0][0]']       \n",
      "                                                                                                  \n",
      " conv2d_11 (Conv2D)          (None, 32, 32, 64)           36928     ['dropout_5[0][0]']           \n",
      "                                                                                                  \n",
      " batch_normalization_11 (Ba  (None, 32, 32, 64)           256       ['conv2d_11[0][0]']           \n",
      " tchNormalization)                                                                                \n",
      "                                                                                                  \n",
      " activation_11 (Activation)  (None, 32, 32, 64)           0         ['batch_normalization_11[0][0]\n",
      "                                                                    ']                            \n",
      "                                                                                                  \n",
      " up_sampling2d_1 (UpSamplin  (None, 64, 64, 64)           0         ['activation_11[0][0]']       \n",
      " g2D)                                                                                             \n",
      "                                                                                                  \n",
      " concatenate_1 (Concatenate  (None, 64, 64, 128)          0         ['up_sampling2d_1[0][0]',     \n",
      " )                                                                   'activation_5[0][0]']        \n",
      "                                                                                                  \n",
      " conv2d_12 (Conv2D)          (None, 64, 64, 64)           73792     ['concatenate_1[0][0]']       \n",
      "                                                                                                  \n",
      " batch_normalization_12 (Ba  (None, 64, 64, 64)           256       ['conv2d_12[0][0]']           \n",
      " tchNormalization)                                                                                \n",
      "                                                                                                  \n",
      " activation_12 (Activation)  (None, 64, 64, 64)           0         ['batch_normalization_12[0][0]\n",
      "                                                                    ']                            \n",
      "                                                                                                  \n",
      " dropout_6 (Dropout)         (None, 64, 64, 64)           0         ['activation_12[0][0]']       \n",
      "                                                                                                  \n",
      " conv2d_13 (Conv2D)          (None, 64, 64, 64)           36928     ['dropout_6[0][0]']           \n",
      "                                                                                                  \n",
      " batch_normalization_13 (Ba  (None, 64, 64, 64)           256       ['conv2d_13[0][0]']           \n",
      " tchNormalization)                                                                                \n",
      "                                                                                                  \n",
      " activation_13 (Activation)  (None, 64, 64, 64)           0         ['batch_normalization_13[0][0]\n",
      "                                                                    ']                            \n",
      "                                                                                                  \n",
      " up_sampling2d_2 (UpSamplin  (None, 128, 128, 64)         0         ['activation_13[0][0]']       \n",
      " g2D)                                                                                             \n",
      "                                                                                                  \n",
      " concatenate_2 (Concatenate  (None, 128, 128, 128)        0         ['up_sampling2d_2[0][0]',     \n",
      " )                                                                   'activation_3[0][0]']        \n",
      "                                                                                                  \n",
      " conv2d_14 (Conv2D)          (None, 128, 128, 64)         73792     ['concatenate_2[0][0]']       \n",
      "                                                                                                  \n",
      " batch_normalization_14 (Ba  (None, 128, 128, 64)         256       ['conv2d_14[0][0]']           \n",
      " tchNormalization)                                                                                \n",
      "                                                                                                  \n",
      " activation_14 (Activation)  (None, 128, 128, 64)         0         ['batch_normalization_14[0][0]\n",
      "                                                                    ']                            \n",
      "                                                                                                  \n",
      " dropout_7 (Dropout)         (None, 128, 128, 64)         0         ['activation_14[0][0]']       \n",
      "                                                                                                  \n",
      " conv2d_15 (Conv2D)          (None, 128, 128, 64)         36928     ['dropout_7[0][0]']           \n",
      "                                                                                                  \n",
      " batch_normalization_15 (Ba  (None, 128, 128, 64)         256       ['conv2d_15[0][0]']           \n",
      " tchNormalization)                                                                                \n",
      "                                                                                                  \n",
      " activation_15 (Activation)  (None, 128, 128, 64)         0         ['batch_normalization_15[0][0]\n",
      "                                                                    ']                            \n",
      "                                                                                                  \n",
      " up_sampling2d_3 (UpSamplin  (None, 256, 256, 64)         0         ['activation_15[0][0]']       \n",
      " g2D)                                                                                             \n",
      "                                                                                                  \n",
      " concatenate_3 (Concatenate  (None, 256, 256, 128)        0         ['up_sampling2d_3[0][0]',     \n",
      " )                                                                   'activation_1[0][0]']        \n",
      "                                                                                                  \n",
      " conv2d_16 (Conv2D)          (None, 256, 256, 64)         73792     ['concatenate_3[0][0]']       \n",
      "                                                                                                  \n",
      " batch_normalization_16 (Ba  (None, 256, 256, 64)         256       ['conv2d_16[0][0]']           \n",
      " tchNormalization)                                                                                \n",
      "                                                                                                  \n",
      " activation_16 (Activation)  (None, 256, 256, 64)         0         ['batch_normalization_16[0][0]\n",
      "                                                                    ']                            \n",
      "                                                                                                  \n",
      " dropout_8 (Dropout)         (None, 256, 256, 64)         0         ['activation_16[0][0]']       \n",
      "                                                                                                  \n",
      " conv2d_17 (Conv2D)          (None, 256, 256, 64)         36928     ['dropout_8[0][0]']           \n",
      "                                                                                                  \n",
      " batch_normalization_17 (Ba  (None, 256, 256, 64)         256       ['conv2d_17[0][0]']           \n",
      " tchNormalization)                                                                                \n",
      "                                                                                                  \n",
      " activation_17 (Activation)  (None, 256, 256, 64)         0         ['batch_normalization_17[0][0]\n",
      "                                                                    ']                            \n",
      "                                                                                                  \n",
      " conv2d_18 (Conv2D)          (None, 256, 256, 4)          260       ['activation_17[0][0]']       \n",
      "                                                                                                  \n",
      "==================================================================================================\n",
      "Total params: 781892 (2.98 MB)\n",
      "Trainable params: 779588 (2.97 MB)\n",
      "Non-trainable params: 2304 (9.00 KB)\n",
      "__________________________________________________________________________________________________\n"
     ]
    }
   ],
   "source": [
    "# Создание модели U-Net\n",
    "unet = unet_model(input_size=(256, 256, 3), num_classes=4)\n",
    "unet.summary()"
   ]
  },
  {
   "cell_type": "code",
   "execution_count": 12,
   "metadata": {},
   "outputs": [],
   "source": [
    "# Метрики для оценки модели\n",
    "\n",
    "num_classes = 4\n",
    "IOU = MeanIoU(num_classes=num_classes)\n",
    "\n",
    "# Компиляция модели с добавленной метрикой IoU\n",
    "unet.compile(optimizer='adam', loss='categorical_crossentropy', metrics=['accuracy', IOU])"
   ]
  },
  {
   "cell_type": "code",
   "execution_count": 13,
   "metadata": {},
   "outputs": [],
   "source": [
    "# Callbacks\n",
    "\n",
    "callbacks = [\n",
    "    EarlyStopping(monitor='val_loss', patience=10, verbose=1),\n",
    "    ModelCheckpoint('unet_best_model.h5', monitor='val_loss', save_best_only=True, verbose=1),\n",
    "    ReduceLROnPlateau(monitor='val_loss', factor=0.1, patience=5, verbose=1)\n",
    "]"
   ]
  },
  {
   "cell_type": "code",
   "execution_count": 14,
   "metadata": {},
   "outputs": [
    {
     "name": "stdout",
     "output_type": "stream",
     "text": [
      "Epoch 1/5\n",
      "750/750 [==============================] - ETA: 0s - loss: 0.0721 - accuracy: 0.9412 - mean_io_u: 0.4940\n",
      "Epoch 1: val_loss improved from inf to 0.05368, saving model to unet_best_model.h5\n"
     ]
    },
    {
     "name": "stderr",
     "output_type": "stream",
     "text": [
      "c:\\Users\\KIT\\AppData\\Local\\Programs\\Python\\Python311\\Lib\\site-packages\\keras\\src\\engine\\training.py:3103: UserWarning: You are saving your model as an HDF5 file via `model.save()`. This file format is considered legacy. We recommend using instead the native Keras format, e.g. `model.save('my_model.keras')`.\n",
      "  saving_api.save_model(\n"
     ]
    },
    {
     "name": "stdout",
     "output_type": "stream",
     "text": [
      "750/750 [==============================] - 2954s 4s/step - loss: 0.0721 - accuracy: 0.9412 - mean_io_u: 0.4940 - val_loss: 0.0537 - val_accuracy: 0.9549 - val_mean_io_u: 0.4949 - lr: 0.0010\n",
      "Epoch 2/5\n",
      "750/750 [==============================] - ETA: 0s - loss: 0.0667 - accuracy: 0.7654 - mean_io_u: 0.4940\n",
      "Epoch 2: val_loss improved from 0.05368 to 0.04968, saving model to unet_best_model.h5\n",
      "750/750 [==============================] - 2948s 4s/step - loss: 0.0667 - accuracy: 0.7654 - mean_io_u: 0.4940 - val_loss: 0.0497 - val_accuracy: 0.9365 - val_mean_io_u: 0.4949 - lr: 0.0010\n",
      "Epoch 3/5\n",
      "750/750 [==============================] - ETA: 0s - loss: 0.0645 - accuracy: 0.7959 - mean_io_u: 0.4940\n",
      "Epoch 3: val_loss improved from 0.04968 to 0.04491, saving model to unet_best_model.h5\n",
      "750/750 [==============================] - 2944s 4s/step - loss: 0.0645 - accuracy: 0.7959 - mean_io_u: 0.4940 - val_loss: 0.0449 - val_accuracy: 0.4490 - val_mean_io_u: 0.4949 - lr: 0.0010\n",
      "Epoch 4/5\n",
      "750/750 [==============================] - ETA: 0s - loss: 0.0638 - accuracy: 0.7099 - mean_io_u: 0.4940\n",
      "Epoch 4: val_loss did not improve from 0.04491\n",
      "750/750 [==============================] - 2951s 4s/step - loss: 0.0638 - accuracy: 0.7099 - mean_io_u: 0.4940 - val_loss: 0.0573 - val_accuracy: 0.6814 - val_mean_io_u: 0.4949 - lr: 0.0010\n",
      "Epoch 5/5\n",
      "750/750 [==============================] - ETA: 0s - loss: 0.0629 - accuracy: 0.6723 - mean_io_u: 0.4940\n",
      "Epoch 5: val_loss did not improve from 0.04491\n",
      "750/750 [==============================] - 2935s 4s/step - loss: 0.0629 - accuracy: 0.6723 - mean_io_u: 0.4940 - val_loss: 0.0542 - val_accuracy: 0.7900 - val_mean_io_u: 0.4949 - lr: 0.0010\n"
     ]
    }
   ],
   "source": [
    "# Обучение модели\n",
    "history = unet.fit(X_train, y_train, batch_size=8, epochs=5, callbacks=callbacks, validation_data=(X_val, y_val)) # Поставлю 5-эпох, модель обучается долго, но покажу что работает."
   ]
  },
  {
   "cell_type": "markdown",
   "metadata": {},
   "source": [
    "Часть 3: Визуализация истории обучения"
   ]
  },
  {
   "cell_type": "code",
   "execution_count": 15,
   "metadata": {},
   "outputs": [],
   "source": [
    "# Функция для визуализации истории обучения\n",
    "\n",
    "def plot_training_history(history):\n",
    "    plt.figure(figsize=(12, 4))\n",
    "    plt.subplot(1, 2, 1)\n",
    "    plt.plot(history.history['loss'], label='Training Loss')\n",
    "    plt.plot(history.history['val_loss'], label='Validation Loss')\n",
    "    plt.legend()\n",
    "    plt.title('Loss Over Epochs')\n",
    "\n",
    "    plt.subplot(1, 2, 2)\n",
    "    plt.plot(history.history['accuracy'], label='Training Accuracy')\n",
    "    plt.plot(history.history['val_accuracy'], label='Validation Accuracy')\n",
    "    plt.legend()\n",
    "    plt.title('Accuracy Over Epochs')\n",
    "    plt.show()"
   ]
  },
  {
   "cell_type": "code",
   "execution_count": 16,
   "metadata": {},
   "outputs": [
    {
     "data": {
      "image/png": "[encoded data removed]",
      "text/plain": [
       "<Figure size 1200x400 with 2 Axes>"
      ]
     },
     "metadata": {},
     "output_type": "display_data"
    }
   ],
   "source": [
    "# Визуализация истории обучения\n",
    "plot_training_history(history)"
   ]
  },
  {
   "cell_type": "markdown",
   "metadata": {},
   "source": [
    "Хотелось показать написанный код в полной красе, но оказалась сложно, из-за малой мощности стационарного компьютера, возможно для мощного оборудования, задача будет выполнена полностью, но я показываю работоспостобность данного кода. P.S Пришлось уменьшить слои до 64 фильтров, хотя изначально было 512.\n",
    "\n",
    "В процессе анализа и улучшения кода я сосредоточился на повышении эффективности, гибкости и масштабируемости решения. Изменения включают в себя улучшенную организацию кода, использование многопоточности для ускорения загрузки данных, добавление слоев нормализации и регуляризации для улучшения обучения нейронной сети, а также введение дополнительных коллбэков и метрик для более тонкой настройки и оценки процесса обучения.\n",
    "\n",
    "Эти улучшения направлены на создание более робастной модели, способной обучаться эффективно и обобщать результаты на новых данных, что особенно важно в задачах сегментации изображений.\n",
    "\n",
    "Введение в нейронные сети освоины в полной осознанности и мере. Спасибо большое Тимуру за проведенные семинары!"
   ]
  }
 ],
 "metadata": {
  "kernelspec": {
   "display_name": "Python 3",
   "language": "python",
   "name": "python3"
  },
  "language_info": {
   "codemirror_mode": {
    "name": "ipython",
    "version": 3
   },
   "file_extension": ".py",
   "mimetype": "text/x-python",
   "name": "python",
   "nbconvert_exporter": "python",
   "pygments_lexer": "ipython3",
   "version": "3.11.6"
  }
 },
 "nbformat": 4,
 "nbformat_minor": 2
}
